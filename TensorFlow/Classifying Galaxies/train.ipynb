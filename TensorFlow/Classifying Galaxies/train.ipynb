{
 "cells": [
  {
   "cell_type": "markdown",
   "metadata": {},
   "source": [
    "#Classifying Galaxies Using Convolutional Neural Networks"
   ]
  },
  {
   "cell_type": "code",
   "execution_count": 21,
   "metadata": {},
   "outputs": [
    {
     "ename": "SyntaxError",
     "evalue": "invalid syntax (pywrap_tensorflow_internal.py, line 114)",
     "output_type": "error",
     "traceback": [
      "Traceback \u001b[1;36m(most recent call last)\u001b[0m:\n",
      "\u001b[0m  File \u001b[0;32m~\\AppData\\Roaming\\Python\\Python312\\site-packages\\IPython\\core\\interactiveshell.py:3553\u001b[0m in \u001b[0;35mrun_code\u001b[0m\n    exec(code_obj, self.user_global_ns, self.user_ns)\u001b[0m\n",
      "\u001b[0m  Cell \u001b[0;32mIn[21], line 2\u001b[0m\n    from tensorflow.keras.preprocessing.image import ImageDataGenerator\u001b[0m\n",
      "\u001b[0m  File \u001b[0;32mc:\\Python312\\Lib\\site-packages\\tensorflow\\__init__.py:24\u001b[0m\n    from tensorflow.python import pywrap_tensorflow  # pylint: disable=unused-import\u001b[0m\n",
      "\u001b[0m  File \u001b[0;32mc:\\Python312\\Lib\\site-packages\\tensorflow\\python\\__init__.py:49\u001b[0m\n    from tensorflow.python import pywrap_tensorflow\u001b[0m\n",
      "\u001b[1;36m  File \u001b[1;32mc:\\Python312\\Lib\\site-packages\\tensorflow\\python\\pywrap_tensorflow.py:58\u001b[1;36m\n\u001b[1;33m    from tensorflow.python.pywrap_tensorflow_internal import *\u001b[1;36m\n",
      "\u001b[1;36m  File \u001b[1;32mc:\\Python312\\Lib\\site-packages\\tensorflow\\python\\pywrap_tensorflow_internal.py:114\u001b[1;36m\u001b[0m\n\u001b[1;33m    def TFE_ContextOptionsSetAsync(arg1, async):\u001b[0m\n\u001b[1;37m                                         ^\u001b[0m\n\u001b[1;31mSyntaxError\u001b[0m\u001b[1;31m:\u001b[0m invalid syntax\n"
     ]
    }
   ],
   "source": [
    "#import tensorflow as tf\n",
    "from tensorflow.keras.preprocessing.image import ImageDataGenerator\n",
    "\n",
    "from sklearn.model_selection import train_test_split\n",
    "from utils import load_galaxy_data\n",
    "\n",
    "import app"
   ]
  }
 ],
 "metadata": {
  "kernelspec": {
   "display_name": "Python 3",
   "language": "python",
   "name": "python3"
  },
  "language_info": {
   "codemirror_mode": {
    "name": "ipython",
    "version": 3
   },
   "file_extension": ".py",
   "mimetype": "text/x-python",
   "name": "python",
   "nbconvert_exporter": "python",
   "pygments_lexer": "ipython3",
   "version": "3.12.0"
  }
 },
 "nbformat": 4,
 "nbformat_minor": 2
}
